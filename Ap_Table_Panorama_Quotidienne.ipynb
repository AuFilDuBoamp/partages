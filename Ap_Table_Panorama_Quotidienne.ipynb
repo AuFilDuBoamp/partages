{
  "nbformat": 4,
  "nbformat_minor": 0,
  "metadata": {
    "colab": {
      "provenance": [],
      "toc_visible": true,
      "mount_file_id": "1S41aBcm2IBH7BuBQi62gvGyS0tnLB0Tz",
      "authorship_tag": "ABX9TyOnH1+zQrxjxFSYecsEGh15",
      "include_colab_link": true
    },
    "kernelspec": {
      "name": "python3",
      "display_name": "Python 3"
    },
    "language_info": {
      "name": "python"
    }
  },
  "cells": [
    {
      "cell_type": "markdown",
      "metadata": {
        "id": "view-in-github",
        "colab_type": "text"
      },
      "source": [
        "<a href=\"https://colab.research.google.com/github/AuFilDuBoamp/partages/blob/main/Ap_Table_Panorama_Quotidienne.ipynb\" target=\"_parent\"><img src=\"https://colab.research.google.com/assets/colab-badge.svg\" alt=\"Open In Colab\"/></a>"
      ]
    },
    {
      "cell_type": "markdown",
      "source": [],
      "metadata": {
        "id": "Y9h5Y8tgisJi"
      }
    },
    {
      "cell_type": "markdown",
      "source": [
        "# Le samedi 8 avril 2023 au BOAMP (Table Panorama)"
      ],
      "metadata": {
        "id": "EQSiGZmuo-i4"
      }
    },
    {
      "cell_type": "markdown",
      "source": [],
      "metadata": {
        "id": "TIs1RwQLishI"
      }
    },
    {
      "cell_type": "markdown",
      "source": [
        "## Importation des bibliothèques et réglages"
      ],
      "metadata": {
        "id": "f-wIX6t5sIfz"
      }
    },
    {
      "cell_type": "code",
      "source": [
        "import pandas as pd\n",
        "\n",
        "pd.options.display.max_rows = 50\n",
        "pd.options.display.max_columns = 50\n",
        "pd.options.display.max_colwidth = 200"
      ],
      "metadata": {
        "id": "W5e6VWmzoxXx"
      },
      "execution_count": 1,
      "outputs": []
    },
    {
      "cell_type": "markdown",
      "source": [
        "## Importation des données et création du dataframe"
      ],
      "metadata": {
        "id": "fhqAQ1sIr5Jc"
      }
    },
    {
      "cell_type": "code",
      "source": [
        "URL_QUOT = 'https://www.aufilduboamp.com/partages/aufilduboamp_csv_panorama_boamp_2023_04_08.csv'\n",
        "df = pd.read_csv(URL_QUOT, sep=';', low_memory=False)\n",
        "\n",
        "# Pour télécharger ce tableau CSV sur votre poste de travail\n",
        "# copiez-collez l'adresse ci_dessous dans la barres d'adresse de votre navigateur\n",
        "# et appuyez sur entrée.\n",
        "\n",
        "# https://www.aufilduboamp.com/partages/aufilduboamp_csv_panorama_boamp_2023_04_04.csv\n",
        "\n",
        "# N'oubliez pas:\n",
        "# - les données sont codées en utf-8;\n",
        "# - le séparateur est le point-virgule, comme initialement avec le BOAMP."
      ],
      "metadata": {
        "id": "cAdxTcVlpH7f"
      },
      "execution_count": 2,
      "outputs": []
    },
    {
      "cell_type": "markdown",
      "source": [
        "## Découverte de deux annonces prises au hasard"
      ],
      "metadata": {
        "id": "ocNo5NrOsuAy"
      }
    },
    {
      "cell_type": "code",
      "source": [
        "df.sample(2)"
      ],
      "metadata": {
        "colab": {
          "base_uri": "https://localhost:8080/",
          "height": 315
        },
        "id": "j5iGqX4MpQFX",
        "outputId": "6e00c148-9f2c-4c19-a40d-f798f4551b5d"
      },
      "execution_count": 6,
      "outputs": [
        {
          "output_type": "execute_result",
          "data": {
            "text/plain": [
              "    P_01_annoncelie  P_02_annoncereferenceschemav110  \\\n",
              "310             NaN                              NaN   \n",
              "324        23-32261                              NaN   \n",
              "\n",
              "     P_03_annoncesanterieuresschemav110 P_04_codedepartement  \\\n",
              "310                                 NaN                    6   \n",
              "324                                 NaN                   93   \n",
              "\n",
              "     P_05_codedepartementprestation     P_06_criteres P_07_datefindiffusion  \\\n",
              "310                             NaN  environnementaux            2023-05-11   \n",
              "324                             NaN               NaN            2023-06-05   \n",
              "\n",
              "    P_08_datelimitereponse P_09_dateparution P_10_dc P_11_descripteurcode  \\\n",
              "310                    NaN        2023-04-08     274                  274   \n",
              "324                    NaN        2023-04-08     274                  274   \n",
              "\n",
              "     P_12_descripteurlibelle     P_13_etat P_14_famille P_15_famillelibelle  \\\n",
              "310  Prestations de services       INITIAL         JOUE   Marchés européens   \n",
              "324  Prestations de services  RECTIFICATIF         JOUE   Marchés européens   \n",
              "\n",
              "              P_16_filename P_17_idweb  P_18_marchepublicsimplifie  \\\n",
              "310  BOAMP-J-AO_2023_098005   23-46609                         NaN   \n",
              "324  BOAMP-J-AO_2023_098005   23-46752                         NaN   \n",
              "\n",
              "    P_19_marchepublicsimplifielabel   P_20_nature  P_21_naturecategorise  \\\n",
              "310                             NaN   APPEL_OFFRE    appeloffre/standard   \n",
              "324                             NaN  RECTIFICATIF  rectificatif/standard   \n",
              "\n",
              "    P_22_naturecategoriselibelle P_23_naturelibelle  \\\n",
              "310              Avis de marché/     Avis de marché   \n",
              "324                Rectificatif/       Rectificatif   \n",
              "\n",
              "                  P_24_nomacheteur  \\\n",
              "310     METROPOLE NICE COTE D AZUR   \n",
              "324  Musee de l Air et de l Espace   \n",
              "\n",
              "                                                                                P_25_objet  \\\n",
              "310                 22N0553. Maintenance et modernisation des stations de comptages SIREDO   \n",
              "324  Accord-cadre relatif à des prestations de médiation et d'accompagnement des visiteurs   \n",
              "\n",
              "    P_26_perimetre P_27_procedurecategorise P_28_procedurelibelle  \\\n",
              "310   DIRECTIVE-24                  OUVERT/     Procédure Ouverte   \n",
              "324          AUTRE                        /          Procédure NC   \n",
              "\n",
              "    P_29_sourceschema P_30_sousnature P_31_sousnaturelibelle  \\\n",
              "310              None        STANDARD                    NaN   \n",
              "324              None             NaN           Rectificatif   \n",
              "\n",
              "    P_32_soustypeprocedure P_33_titulaire P_34_typeavis P_35_typemarche  \\\n",
              "310                    NaN            NaN          5,1,        SERVICES   \n",
              "324                    NaN            NaN           NaN        SERVICES   \n",
              "\n",
              "    P_36_typemarchefacette P_37_typeprocedure  \\\n",
              "310               Services             OUVERT   \n",
              "324               Services                NaN   \n",
              "\n",
              "                                          P_38_urlavis  \n",
              "310  https://www.boamp.fr/pages/avis/?q=idweb:23-46609  \n",
              "324  https://www.boamp.fr/pages/avis/?q=idweb:23-46752  "
            ],
            "text/html": [
              "\n",
              "  <div id=\"df-dddd5fd7-0bb5-409a-b398-d66c980f5df6\">\n",
              "    <div class=\"colab-df-container\">\n",
              "      <div>\n",
              "<style scoped>\n",
              "    .dataframe tbody tr th:only-of-type {\n",
              "        vertical-align: middle;\n",
              "    }\n",
              "\n",
              "    .dataframe tbody tr th {\n",
              "        vertical-align: top;\n",
              "    }\n",
              "\n",
              "    .dataframe thead th {\n",
              "        text-align: right;\n",
              "    }\n",
              "</style>\n",
              "<table border=\"1\" class=\"dataframe\">\n",
              "  <thead>\n",
              "    <tr style=\"text-align: right;\">\n",
              "      <th></th>\n",
              "      <th>P_01_annoncelie</th>\n",
              "      <th>P_02_annoncereferenceschemav110</th>\n",
              "      <th>P_03_annoncesanterieuresschemav110</th>\n",
              "      <th>P_04_codedepartement</th>\n",
              "      <th>P_05_codedepartementprestation</th>\n",
              "      <th>P_06_criteres</th>\n",
              "      <th>P_07_datefindiffusion</th>\n",
              "      <th>P_08_datelimitereponse</th>\n",
              "      <th>P_09_dateparution</th>\n",
              "      <th>P_10_dc</th>\n",
              "      <th>P_11_descripteurcode</th>\n",
              "      <th>P_12_descripteurlibelle</th>\n",
              "      <th>P_13_etat</th>\n",
              "      <th>P_14_famille</th>\n",
              "      <th>P_15_famillelibelle</th>\n",
              "      <th>P_16_filename</th>\n",
              "      <th>P_17_idweb</th>\n",
              "      <th>P_18_marchepublicsimplifie</th>\n",
              "      <th>P_19_marchepublicsimplifielabel</th>\n",
              "      <th>P_20_nature</th>\n",
              "      <th>P_21_naturecategorise</th>\n",
              "      <th>P_22_naturecategoriselibelle</th>\n",
              "      <th>P_23_naturelibelle</th>\n",
              "      <th>P_24_nomacheteur</th>\n",
              "      <th>P_25_objet</th>\n",
              "      <th>P_26_perimetre</th>\n",
              "      <th>P_27_procedurecategorise</th>\n",
              "      <th>P_28_procedurelibelle</th>\n",
              "      <th>P_29_sourceschema</th>\n",
              "      <th>P_30_sousnature</th>\n",
              "      <th>P_31_sousnaturelibelle</th>\n",
              "      <th>P_32_soustypeprocedure</th>\n",
              "      <th>P_33_titulaire</th>\n",
              "      <th>P_34_typeavis</th>\n",
              "      <th>P_35_typemarche</th>\n",
              "      <th>P_36_typemarchefacette</th>\n",
              "      <th>P_37_typeprocedure</th>\n",
              "      <th>P_38_urlavis</th>\n",
              "    </tr>\n",
              "  </thead>\n",
              "  <tbody>\n",
              "    <tr>\n",
              "      <th>310</th>\n",
              "      <td>NaN</td>\n",
              "      <td>NaN</td>\n",
              "      <td>NaN</td>\n",
              "      <td>6</td>\n",
              "      <td>NaN</td>\n",
              "      <td>environnementaux</td>\n",
              "      <td>2023-05-11</td>\n",
              "      <td>NaN</td>\n",
              "      <td>2023-04-08</td>\n",
              "      <td>274</td>\n",
              "      <td>274</td>\n",
              "      <td>Prestations de services</td>\n",
              "      <td>INITIAL</td>\n",
              "      <td>JOUE</td>\n",
              "      <td>Marchés européens</td>\n",
              "      <td>BOAMP-J-AO_2023_098005</td>\n",
              "      <td>23-46609</td>\n",
              "      <td>NaN</td>\n",
              "      <td>NaN</td>\n",
              "      <td>APPEL_OFFRE</td>\n",
              "      <td>appeloffre/standard</td>\n",
              "      <td>Avis de marché/</td>\n",
              "      <td>Avis de marché</td>\n",
              "      <td>METROPOLE NICE COTE D AZUR</td>\n",
              "      <td>22N0553. Maintenance et modernisation des stations de comptages SIREDO</td>\n",
              "      <td>DIRECTIVE-24</td>\n",
              "      <td>OUVERT/</td>\n",
              "      <td>Procédure Ouverte</td>\n",
              "      <td>None</td>\n",
              "      <td>STANDARD</td>\n",
              "      <td>NaN</td>\n",
              "      <td>NaN</td>\n",
              "      <td>NaN</td>\n",
              "      <td>5,1,</td>\n",
              "      <td>SERVICES</td>\n",
              "      <td>Services</td>\n",
              "      <td>OUVERT</td>\n",
              "      <td>https://www.boamp.fr/pages/avis/?q=idweb:23-46609</td>\n",
              "    </tr>\n",
              "    <tr>\n",
              "      <th>324</th>\n",
              "      <td>23-32261</td>\n",
              "      <td>NaN</td>\n",
              "      <td>NaN</td>\n",
              "      <td>93</td>\n",
              "      <td>NaN</td>\n",
              "      <td>NaN</td>\n",
              "      <td>2023-06-05</td>\n",
              "      <td>NaN</td>\n",
              "      <td>2023-04-08</td>\n",
              "      <td>274</td>\n",
              "      <td>274</td>\n",
              "      <td>Prestations de services</td>\n",
              "      <td>RECTIFICATIF</td>\n",
              "      <td>JOUE</td>\n",
              "      <td>Marchés européens</td>\n",
              "      <td>BOAMP-J-AO_2023_098005</td>\n",
              "      <td>23-46752</td>\n",
              "      <td>NaN</td>\n",
              "      <td>NaN</td>\n",
              "      <td>RECTIFICATIF</td>\n",
              "      <td>rectificatif/standard</td>\n",
              "      <td>Rectificatif/</td>\n",
              "      <td>Rectificatif</td>\n",
              "      <td>Musee de l Air et de l Espace</td>\n",
              "      <td>Accord-cadre relatif à des prestations de médiation et d'accompagnement des visiteurs</td>\n",
              "      <td>AUTRE</td>\n",
              "      <td>/</td>\n",
              "      <td>Procédure NC</td>\n",
              "      <td>None</td>\n",
              "      <td>NaN</td>\n",
              "      <td>Rectificatif</td>\n",
              "      <td>NaN</td>\n",
              "      <td>NaN</td>\n",
              "      <td>NaN</td>\n",
              "      <td>SERVICES</td>\n",
              "      <td>Services</td>\n",
              "      <td>NaN</td>\n",
              "      <td>https://www.boamp.fr/pages/avis/?q=idweb:23-46752</td>\n",
              "    </tr>\n",
              "  </tbody>\n",
              "</table>\n",
              "</div>\n",
              "      <button class=\"colab-df-convert\" onclick=\"convertToInteractive('df-dddd5fd7-0bb5-409a-b398-d66c980f5df6')\"\n",
              "              title=\"Convert this dataframe to an interactive table.\"\n",
              "              style=\"display:none;\">\n",
              "        \n",
              "  <svg xmlns=\"http://www.w3.org/2000/svg\" height=\"24px\"viewBox=\"0 0 24 24\"\n",
              "       width=\"24px\">\n",
              "    <path d=\"M0 0h24v24H0V0z\" fill=\"none\"/>\n",
              "    <path d=\"M18.56 5.44l.94 2.06.94-2.06 2.06-.94-2.06-.94-.94-2.06-.94 2.06-2.06.94zm-11 1L8.5 8.5l.94-2.06 2.06-.94-2.06-.94L8.5 2.5l-.94 2.06-2.06.94zm10 10l.94 2.06.94-2.06 2.06-.94-2.06-.94-.94-2.06-.94 2.06-2.06.94z\"/><path d=\"M17.41 7.96l-1.37-1.37c-.4-.4-.92-.59-1.43-.59-.52 0-1.04.2-1.43.59L10.3 9.45l-7.72 7.72c-.78.78-.78 2.05 0 2.83L4 21.41c.39.39.9.59 1.41.59.51 0 1.02-.2 1.41-.59l7.78-7.78 2.81-2.81c.8-.78.8-2.07 0-2.86zM5.41 20L4 18.59l7.72-7.72 1.47 1.35L5.41 20z\"/>\n",
              "  </svg>\n",
              "      </button>\n",
              "      \n",
              "  <style>\n",
              "    .colab-df-container {\n",
              "      display:flex;\n",
              "      flex-wrap:wrap;\n",
              "      gap: 12px;\n",
              "    }\n",
              "\n",
              "    .colab-df-convert {\n",
              "      background-color: #E8F0FE;\n",
              "      border: none;\n",
              "      border-radius: 50%;\n",
              "      cursor: pointer;\n",
              "      display: none;\n",
              "      fill: #1967D2;\n",
              "      height: 32px;\n",
              "      padding: 0 0 0 0;\n",
              "      width: 32px;\n",
              "    }\n",
              "\n",
              "    .colab-df-convert:hover {\n",
              "      background-color: #E2EBFA;\n",
              "      box-shadow: 0px 1px 2px rgba(60, 64, 67, 0.3), 0px 1px 3px 1px rgba(60, 64, 67, 0.15);\n",
              "      fill: #174EA6;\n",
              "    }\n",
              "\n",
              "    [theme=dark] .colab-df-convert {\n",
              "      background-color: #3B4455;\n",
              "      fill: #D2E3FC;\n",
              "    }\n",
              "\n",
              "    [theme=dark] .colab-df-convert:hover {\n",
              "      background-color: #434B5C;\n",
              "      box-shadow: 0px 1px 3px 1px rgba(0, 0, 0, 0.15);\n",
              "      filter: drop-shadow(0px 1px 2px rgba(0, 0, 0, 0.3));\n",
              "      fill: #FFFFFF;\n",
              "    }\n",
              "  </style>\n",
              "\n",
              "      <script>\n",
              "        const buttonEl =\n",
              "          document.querySelector('#df-dddd5fd7-0bb5-409a-b398-d66c980f5df6 button.colab-df-convert');\n",
              "        buttonEl.style.display =\n",
              "          google.colab.kernel.accessAllowed ? 'block' : 'none';\n",
              "\n",
              "        async function convertToInteractive(key) {\n",
              "          const element = document.querySelector('#df-dddd5fd7-0bb5-409a-b398-d66c980f5df6');\n",
              "          const dataTable =\n",
              "            await google.colab.kernel.invokeFunction('convertToInteractive',\n",
              "                                                     [key], {});\n",
              "          if (!dataTable) return;\n",
              "\n",
              "          const docLinkHtml = 'Like what you see? Visit the ' +\n",
              "            '<a target=\"_blank\" href=https://colab.research.google.com/notebooks/data_table.ipynb>data table notebook</a>'\n",
              "            + ' to learn more about interactive tables.';\n",
              "          element.innerHTML = '';\n",
              "          dataTable['output_type'] = 'display_data';\n",
              "          await google.colab.output.renderOutput(dataTable, element);\n",
              "          const docLink = document.createElement('div');\n",
              "          docLink.innerHTML = docLinkHtml;\n",
              "          element.appendChild(docLink);\n",
              "        }\n",
              "      </script>\n",
              "    </div>\n",
              "  </div>\n",
              "  "
            ]
          },
          "metadata": {},
          "execution_count": 6
        }
      ]
    },
    {
      "cell_type": "markdown",
      "source": [
        "## Infos générales"
      ],
      "metadata": {
        "id": "eUNs98LltxiB"
      }
    },
    {
      "cell_type": "code",
      "source": [
        "df.info(verbose=True)"
      ],
      "metadata": {
        "id": "Ng-n6mkFs88L",
        "colab": {
          "base_uri": "https://localhost:8080/"
        },
        "outputId": "a4643794-d58f-4d05-d356-5701b6068581"
      },
      "execution_count": 4,
      "outputs": [
        {
          "output_type": "stream",
          "name": "stdout",
          "text": [
            "<class 'pandas.core.frame.DataFrame'>\n",
            "RangeIndex: 388 entries, 0 to 387\n",
            "Data columns (total 38 columns):\n",
            " #   Column                              Non-Null Count  Dtype  \n",
            "---  ------                              --------------  -----  \n",
            " 0   P_01_annoncelie                     132 non-null    object \n",
            " 1   P_02_annoncereferenceschemav110     0 non-null      float64\n",
            " 2   P_03_annoncesanterieuresschemav110  0 non-null      float64\n",
            " 3   P_04_codedepartement                388 non-null    object \n",
            " 4   P_05_codedepartementprestation      0 non-null      float64\n",
            " 5   P_06_criteres                       135 non-null    object \n",
            " 6   P_07_datefindiffusion               388 non-null    object \n",
            " 7   P_08_datelimitereponse              5 non-null      object \n",
            " 8   P_09_dateparution                   388 non-null    object \n",
            " 9   P_10_dc                             388 non-null    object \n",
            " 10  P_11_descripteurcode                388 non-null    object \n",
            " 11  P_12_descripteurlibelle             388 non-null    object \n",
            " 12  P_13_etat                           388 non-null    object \n",
            " 13  P_14_famille                        388 non-null    object \n",
            " 14  P_15_famillelibelle                 388 non-null    object \n",
            " 15  P_16_filename                       388 non-null    object \n",
            " 16  P_17_idweb                          388 non-null    object \n",
            " 17  P_18_marchepublicsimplifie          16 non-null     float64\n",
            " 18  P_19_marchepublicsimplifielabel     16 non-null     object \n",
            " 19  P_20_nature                         388 non-null    object \n",
            " 20  P_21_naturecategorise               388 non-null    object \n",
            " 21  P_22_naturecategoriselibelle        388 non-null    object \n",
            " 22  P_23_naturelibelle                  388 non-null    object \n",
            " 23  P_24_nomacheteur                    388 non-null    object \n",
            " 24  P_25_objet                          388 non-null    object \n",
            " 25  P_26_perimetre                      388 non-null    object \n",
            " 26  P_27_procedurecategorise            388 non-null    object \n",
            " 27  P_28_procedurelibelle               388 non-null    object \n",
            " 28  P_29_sourceschema                   388 non-null    object \n",
            " 29  P_30_sousnature                     350 non-null    object \n",
            " 30  P_31_sousnaturelibelle              50 non-null     object \n",
            " 31  P_32_soustypeprocedure              4 non-null      object \n",
            " 32  P_33_titulaire                      87 non-null     object \n",
            " 33  P_34_typeavis                       352 non-null    object \n",
            " 34  P_35_typemarche                     381 non-null    object \n",
            " 35  P_36_typemarchefacette              381 non-null    object \n",
            " 36  P_37_typeprocedure                  346 non-null    object \n",
            " 37  P_38_urlavis                        388 non-null    object \n",
            "dtypes: float64(4), object(34)\n",
            "memory usage: 115.3+ KB\n"
          ]
        }
      ]
    },
    {
      "cell_type": "code",
      "source": [],
      "metadata": {
        "id": "sRPoZStOt75a"
      },
      "execution_count": 4,
      "outputs": []
    }
  ]
}